{
 "cells": [
  {
   "cell_type": "markdown",
   "metadata": {},
   "source": [
    "# Image super resolution  for edge computing devices\n",
    "Based on the paper, [\"Accelerating the Super-Resolution Convolutional Neural Network\"](https://arxiv.org/abs/1608.00367).\n",
    "<center><img src=\"./thumbnails/fig1.png\"></center>"
   ]
  },
  {
   "cell_type": "markdown",
   "metadata": {},
   "source": [
    "<center><h1>Examples</h1></center>"
   ]
  },
  {
   "cell_type": "markdown",
   "metadata": {},
   "source": [
    "<table>\n",
    "    <tr>\n",
    "        <td><center>Original</center></td>\n",
    "        <td><center>Bicubic Interpolation</center></td>\n",
    "        <td><center>Super Resolution (25.28 dB)</center></td>\n",
    "    </tr>\n",
    "    <tr>\n",
    "    \t<td>\n",
    "    \t\t<center><img src=\"./samples/fish/fish.png\"></center>\n",
    "    \t</td>\n",
    "    \t<td>\n",
    "    \t\t<center><img src=\"./samples/fish/fish_bicubic_x4.png\"></center>\n",
    "    \t</td>\n",
    "    \t<td>\n",
    "    \t\t<center><img src=\"./samples/fish/fish_fsrcnn_x4.png\"></center>\n",
    "    \t</td>\n",
    "    </tr>\n",
    "</table>"
   ]
  },
  {
   "cell_type": "markdown",
   "metadata": {},
   "source": [
    "<tr>\n",
    "        <td><center>Original</center></td>\n",
    "        <td><center>Bicubic Interpolation</center></td>\n",
    "        <td><center>Super Resolution (28.55 dB)</center></td>\n",
    "    </tr>\n",
    "    <tr>\n",
    "    \t<td>\n",
    "    \t\t<center><img src=\"./samples/butterfly/butterfly_GT.bmp\"></center>\n",
    "    \t</td>\n",
    "    \t<td>\n",
    "    \t\t<center><img src=\"./samples/butterfly/butterfly_GT_bicubic_x4.bmp\"></center>\n",
    "    \t</td>\n",
    "    \t<td>\n",
    "    \t\t<center><img src=\"./samples/butterfly/butterfly_GT_fsrcnn_x4.bmp\"></center>\n",
    "    \t</td>\n",
    "    </tr>"
   ]
  },
  {
   "cell_type": "markdown",
   "metadata": {},
   "source": [
    "<tr>\n",
    "        <td><center>Original</center></td>\n",
    "        <td><center>Bicubic Interpolation</center></td>\n",
    "        <td><center>Super Resolution (22.56 dB)</center></td>\n",
    "    </tr>\n",
    "    <tr>\n",
    "    \t<td>\n",
    "    \t\t<center><img src=\"./samples/bird/bird.png\"></center>\n",
    "    \t</td>\n",
    "    \t<td>\n",
    "    \t\t<center><img src=\"./samples/bird/bird_bicubic_x4.png\"></center>\n",
    "    \t</td>\n",
    "    \t<td>\n",
    "    \t\t<center><img src=\"./samples/bird/bird_fsrcnn_x4.png\"></center>\n",
    "    \t</td>\n",
    "    </tr>"
   ]
  },
  {
   "cell_type": "markdown",
   "metadata": {},
   "source": [
    "# Comparison with the Original High resolution image"
   ]
  },
  {
   "cell_type": "markdown",
   "metadata": {},
   "source": [
    "<tr>\n",
    "    <td><img src = \"./samples/shop/high_res.png\"></td>\n",
    "</tr>"
   ]
  },
  {
   "cell_type": "markdown",
   "metadata": {},
   "source": [
    "<tr>\n",
    "    <td><center><h2>Original</h2></center></td>\n",
    "        <td><center><h2>Bicubic Interpolation</h2></center></td>\n",
    "        <td><center><h2>Super resolution</h2></center></td>\n",
    "    </tr>\n",
    "    <tr>\n",
    "    \t<td>\n",
    "    \t\t<center><img src=\"./samples/shop/hr_fsrcnn_x4.png\"></center>\n",
    "    \t</td>\n",
    "    \t<td>\n",
    "    \t\t<center><img src=\"./samples/shop/bicubic_bicubic_x4.png\"></center>\n",
    "    \t</td>\n",
    "    \t<td>\n",
    "    \t\t<center><img src=\"./samples/shop/super_resolution_fsrcnn_x4.png\"></center>\n",
    "    \t</td>\n",
    "    </tr>"
   ]
  },
  {
   "cell_type": "markdown",
   "metadata": {},
   "source": [
    "<tr>\n",
    "    \n",
    "    <tr>\n",
    "    \t<td>\n",
    "    \t\t<center><img src=\"./samples/shop/hr.png\"></center>\n",
    "    \t</td>\n",
    "    \t<td>\n",
    "    \t\t<center><img src=\"./samples/shop/bicubic.png\"></center>\n",
    "    \t</td>\n",
    "    \t<td>\n",
    "    \t\t<center><img src=\"./samples/shop/super_resolution.png\"></center>\n",
    "    \t</td>\n",
    "    </tr>\n",
    "</tr>"
   ]
  },
  {
   "cell_type": "code",
   "execution_count": null,
   "metadata": {},
   "outputs": [],
   "source": []
  }
 ],
 "metadata": {
  "kernelspec": {
   "display_name": "Python 3",
   "language": "python",
   "name": "python3"
  },
  "language_info": {
   "codemirror_mode": {
    "name": "ipython",
    "version": 3
   },
   "file_extension": ".py",
   "mimetype": "text/x-python",
   "name": "python",
   "nbconvert_exporter": "python",
   "pygments_lexer": "ipython3",
   "version": "3.8.5"
  }
 },
 "nbformat": 4,
 "nbformat_minor": 4
}
